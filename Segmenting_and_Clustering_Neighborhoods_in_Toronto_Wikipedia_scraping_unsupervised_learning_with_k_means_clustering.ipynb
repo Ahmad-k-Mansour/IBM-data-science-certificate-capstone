{
  "nbformat": 4,
  "nbformat_minor": 0,
  "metadata": {
    "colab": {
      "name": "Segmenting and Clustering Neighborhoods in Toronto - Wikipedia scraping - unsupervised learning with k-means clustering.ipynb",
      "provenance": [],
      "authorship_tag": "ABX9TyMdBIyftQWMDZGkhALra9W/"
    },
    "kernelspec": {
      "name": "python3",
      "display_name": "Python 3"
    }
  },
  "cells": [
    {
      "cell_type": "markdown",
      "metadata": {
        "id": "52K7shymdmTi",
        "colab_type": "text"
      },
      "source": [
        "#Segmenting and Clustering Neighborhoods in Toronto - Wikipedia scraping - unsupervised learning with k-means clustering"
      ]
    },
    {
      "cell_type": "code",
      "metadata": {
        "id": "XGsNY0StdkPq",
        "colab_type": "code",
        "colab": {}
      },
      "source": [
        ""
      ],
      "execution_count": 0,
      "outputs": []
    }
  ]
}