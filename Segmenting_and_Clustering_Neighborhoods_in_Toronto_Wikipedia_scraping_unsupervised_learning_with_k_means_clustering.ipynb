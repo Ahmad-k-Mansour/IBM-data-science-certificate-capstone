{
  "nbformat": 4,
  "nbformat_minor": 0,
  "metadata": {
    "colab": {
      "name": "Segmenting and Clustering Neighborhoods in Toronto - Wikipedia scraping - unsupervised learning with k-means clustering.ipynb",
      "provenance": [],
      "authorship_tag": "ABX9TyOg6kRDuXdQ3onzlLjbQaaf"
    },
    "kernelspec": {
      "name": "python3",
      "display_name": "Python 3"
    }
  },
  "cells": [
    {
      "cell_type": "markdown",
      "metadata": {
        "id": "52K7shymdmTi",
        "colab_type": "text"
      },
      "source": [
        "#Segmenting and Clustering Neighborhoods in Toronto - Wikipedia scraping - building the data frame\n"
      ]
    },
    {
      "cell_type": "code",
      "metadata": {
        "id": "XGsNY0StdkPq",
        "colab_type": "code",
        "colab": {}
      },
      "source": [
        "from bs4 import BeautifulSoup\n",
        "import requests\n",
        "import html5lib\n",
        "import pandas as pd\n",
        "import numpy as np\n",
        "pd.set_option('display.max_columns', None)\n",
        "pd.set_option('display.max_rows', None)\n"
      ],
      "execution_count": 0,
      "outputs": []
    },
    {
      "cell_type": "code",
      "metadata": {
        "id": "EExtzDc29X4y",
        "colab_type": "code",
        "colab": {}
      },
      "source": [
        "source = requests.get(\n",
        "    'https://en.wikipedia.org/wiki/List_of_postal_codes_of_Canada:_M').text\n",
        "soup = BeautifulSoup(source, features=\"html5lib\")"
      ],
      "execution_count": 0,
      "outputs": []
    },
    {
      "cell_type": "code",
      "metadata": {
        "id": "8BjjEweu9b41",
        "colab_type": "code",
        "colab": {}
      },
      "source": [
        "table = soup.find('table')\n",
        "thead = table.find_all('th')\n",
        "titles = []\n",
        "for i in thead:\n",
        "    title = i.text\n",
        "    titles.append(title.strip())"
      ],
      "execution_count": 0,
      "outputs": []
    },
    {
      "cell_type": "code",
      "metadata": {
        "id": "1eA8IwPB9XwW",
        "colab_type": "code",
        "colab": {}
      },
      "source": [
        ""
      ],
      "execution_count": 0,
      "outputs": []
    },
    {
      "cell_type": "code",
      "metadata": {
        "id": "cFa084KJ9ji7",
        "colab_type": "code",
        "colab": {}
      },
      "source": [
        "tbody = table.find('tbody')\n",
        "data = []\n",
        "rows = tbody.find_all('tr')"
      ],
      "execution_count": 0,
      "outputs": []
    },
    {
      "cell_type": "code",
      "metadata": {
        "id": "CbhXzLpM9oEB",
        "colab_type": "code",
        "colab": {}
      },
      "source": [
        "neighborhoods = pd.DataFrame(columns=titles)\n",
        "\n",
        "for row in rows:\n",
        "    cols = row.find_all('td')\n",
        "    cols = [ele.text.strip() for ele in cols]\n",
        "    data.append([ele for ele in cols if ele])\n",
        "\n",
        "for entry in data:\n",
        "    #print('entry:', entry)\n",
        "    if len(entry) > 0:\n",
        "        if entry[1] == \"Not assigned\":\n",
        "            continue\n",
        "        if entry[2] ==\"Not assigned\" :\n",
        "          niebs = entry[1]\n",
        "        else:\n",
        "          niebs = ' '.join([str(nieb) for nieb in entry[2:]]) \n",
        "\n",
        "        neighborhoods = neighborhoods.append(\n",
        "            {titles[0]: entry[0], titles[1]: entry[1], titles[2]: niebs}, ignore_index=True)"
      ],
      "execution_count": 0,
      "outputs": []
    },
    {
      "cell_type": "code",
      "metadata": {
        "id": "CoMtsY2F9sYV",
        "colab_type": "code",
        "colab": {
          "base_uri": "https://localhost:8080/",
          "height": 119
        },
        "outputId": "d2ae7f33-2e92-45d4-8d24-d5a3a9cb4a90"
      },
      "source": [
        "print(neighborhoods.head())"
      ],
      "execution_count": 86,
      "outputs": [
        {
          "output_type": "stream",
          "text": [
            "  Postcode           Borough      Neighborhood\n",
            "0      M3A        North York         Parkwoods\n",
            "1      M4A        North York  Victoria Village\n",
            "2      M5A  Downtown Toronto      Harbourfront\n",
            "3      M6A        North York  Lawrence Heights\n",
            "4      M6A        North York    Lawrence Manor\n"
          ],
          "name": "stdout"
        }
      ]
    },
    {
      "cell_type": "code",
      "metadata": {
        "id": "ghiJ_zxOAljT",
        "colab_type": "code",
        "colab": {
          "base_uri": "https://localhost:8080/",
          "height": 34
        },
        "outputId": "18c02055-ae50-4418-893f-23d577d3f261"
      },
      "source": [
        "neighborhoods.shape"
      ],
      "execution_count": 87,
      "outputs": [
        {
          "output_type": "execute_result",
          "data": {
            "text/plain": [
              "(210, 3)"
            ]
          },
          "metadata": {
            "tags": []
          },
          "execution_count": 87
        }
      ]
    }
  ]
}