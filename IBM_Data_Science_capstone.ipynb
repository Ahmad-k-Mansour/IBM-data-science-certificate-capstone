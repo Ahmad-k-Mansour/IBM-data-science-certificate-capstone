{
  "nbformat": 4,
  "nbformat_minor": 0,
  "metadata": {
    "colab": {
      "name": "Copy of IBM Data Science capstone.ipynb",
      "provenance": [],
      "collapsed_sections": []
    },
    "kernelspec": {
      "name": "python3",
      "display_name": "Python 3"
    }
  },
  "cells": [
    {
      "cell_type": "markdown",
      "metadata": {
        "id": "dFI2a6OJdXea",
        "colab_type": "text"
      },
      "source": [
        "IBM Data Science Profissional Certificate Capstone Notebook"
      ]
    },
    {
      "cell_type": "code",
      "metadata": {
        "id": "n-LtIRwgb3wh",
        "colab_type": "code",
        "colab": {}
      },
      "source": [
        "import pandas as pd\n",
        "import numpy as np\n"
      ],
      "execution_count": 0,
      "outputs": []
    },
    {
      "cell_type": "code",
      "metadata": {
        "id": "Zk8aSv5Hd0sS",
        "colab_type": "code",
        "outputId": "4d68eba6-2eb4-469f-a470-02516553bc87",
        "colab": {
          "base_uri": "https://localhost:8080/",
          "height": 34
        }
      },
      "source": [
        "print('Capstone Project Course!')"
      ],
      "execution_count": 0,
      "outputs": [
        {
          "output_type": "stream",
          "text": [
            "Capstone Project Course!\n"
          ],
          "name": "stdout"
        }
      ]
    }
  ]
}